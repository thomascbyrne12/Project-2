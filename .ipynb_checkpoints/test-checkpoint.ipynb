{
 "cells": [
  {
   "cell_type": "code",
   "execution_count": 3,
   "metadata": {},
   "outputs": [],
   "source": [
    "import pandas as pd"
   ]
  },
  {
   "cell_type": "code",
   "execution_count": 4,
   "metadata": {
    "scrolled": true
   },
   "outputs": [],
   "source": [
    "cricket_data = pd.read_csv(\"C://Users//Thomas Byrne//Documents//GitHub//Project-2//icc-test-cricket-runs//ICC Test Batting Figures.csv\", encoding=\"ISO-8859-1\")"
   ]
  },
  {
   "cell_type": "code",
   "execution_count": 5,
   "metadata": {},
   "outputs": [
    {
     "data": {
      "text/html": [
       "<div>\n",
       "<style scoped>\n",
       "    .dataframe tbody tr th:only-of-type {\n",
       "        vertical-align: middle;\n",
       "    }\n",
       "\n",
       "    .dataframe tbody tr th {\n",
       "        vertical-align: top;\n",
       "    }\n",
       "\n",
       "    .dataframe thead th {\n",
       "        text-align: right;\n",
       "    }\n",
       "</style>\n",
       "<table border=\"1\" class=\"dataframe\">\n",
       "  <thead>\n",
       "    <tr style=\"text-align: right;\">\n",
       "      <th></th>\n",
       "      <th>Player</th>\n",
       "      <th>Span</th>\n",
       "      <th>Mat</th>\n",
       "      <th>Inn</th>\n",
       "      <th>NO</th>\n",
       "      <th>Runs</th>\n",
       "      <th>HS</th>\n",
       "      <th>Avg</th>\n",
       "      <th>100</th>\n",
       "      <th>50</th>\n",
       "      <th>0</th>\n",
       "      <th>Player Profile</th>\n",
       "    </tr>\n",
       "  </thead>\n",
       "  <tbody>\n",
       "    <tr>\n",
       "      <th>0</th>\n",
       "      <td>SR Tendulkar (INDIA)</td>\n",
       "      <td>1989-2013</td>\n",
       "      <td>200</td>\n",
       "      <td>329</td>\n",
       "      <td>33</td>\n",
       "      <td>15921</td>\n",
       "      <td>248*</td>\n",
       "      <td>53.78</td>\n",
       "      <td>51</td>\n",
       "      <td>68</td>\n",
       "      <td>14</td>\n",
       "      <td>http://stats.espncricinfo.com/ci/content/playe...</td>\n",
       "    </tr>\n",
       "    <tr>\n",
       "      <th>1</th>\n",
       "      <td>RT Ponting (AUS)</td>\n",
       "      <td>1995-2012</td>\n",
       "      <td>168</td>\n",
       "      <td>287</td>\n",
       "      <td>29</td>\n",
       "      <td>13378</td>\n",
       "      <td>257</td>\n",
       "      <td>51.85</td>\n",
       "      <td>41</td>\n",
       "      <td>62</td>\n",
       "      <td>17</td>\n",
       "      <td>http://stats.espncricinfo.com/ci/content/playe...</td>\n",
       "    </tr>\n",
       "    <tr>\n",
       "      <th>2</th>\n",
       "      <td>JH Kallis (ICC/SA)</td>\n",
       "      <td>1995-2013</td>\n",
       "      <td>166</td>\n",
       "      <td>280</td>\n",
       "      <td>40</td>\n",
       "      <td>13289</td>\n",
       "      <td>224</td>\n",
       "      <td>55.37</td>\n",
       "      <td>45</td>\n",
       "      <td>58</td>\n",
       "      <td>16</td>\n",
       "      <td>http://stats.espncricinfo.com/ci/content/playe...</td>\n",
       "    </tr>\n",
       "    <tr>\n",
       "      <th>3</th>\n",
       "      <td>R Dravid (ICC/INDIA)</td>\n",
       "      <td>1996-2012</td>\n",
       "      <td>164</td>\n",
       "      <td>286</td>\n",
       "      <td>32</td>\n",
       "      <td>13288</td>\n",
       "      <td>270</td>\n",
       "      <td>52.31</td>\n",
       "      <td>36</td>\n",
       "      <td>63</td>\n",
       "      <td>8</td>\n",
       "      <td>http://stats.espncricinfo.com/ci/content/playe...</td>\n",
       "    </tr>\n",
       "    <tr>\n",
       "      <th>4</th>\n",
       "      <td>AN Cook (ENG)</td>\n",
       "      <td>2006-2018</td>\n",
       "      <td>161</td>\n",
       "      <td>291</td>\n",
       "      <td>16</td>\n",
       "      <td>12472</td>\n",
       "      <td>294</td>\n",
       "      <td>45.35</td>\n",
       "      <td>33</td>\n",
       "      <td>57</td>\n",
       "      <td>9</td>\n",
       "      <td>http://stats.espncricinfo.com/ci/content/playe...</td>\n",
       "    </tr>\n",
       "  </tbody>\n",
       "</table>\n",
       "</div>"
      ],
      "text/plain": [
       "                 Player       Span  Mat  Inn  NO   Runs    HS    Avg 100  50  \\\n",
       "0  SR Tendulkar (INDIA)  1989-2013  200  329  33  15921  248*  53.78  51  68   \n",
       "1      RT Ponting (AUS)  1995-2012  168  287  29  13378   257  51.85  41  62   \n",
       "2    JH Kallis (ICC/SA)  1995-2013  166  280  40  13289   224  55.37  45  58   \n",
       "3  R Dravid (ICC/INDIA)  1996-2012  164  286  32  13288   270  52.31  36  63   \n",
       "4         AN Cook (ENG)  2006-2018  161  291  16  12472   294  45.35  33  57   \n",
       "\n",
       "    0                                     Player Profile  \n",
       "0  14  http://stats.espncricinfo.com/ci/content/playe...  \n",
       "1  17  http://stats.espncricinfo.com/ci/content/playe...  \n",
       "2  16  http://stats.espncricinfo.com/ci/content/playe...  \n",
       "3   8  http://stats.espncricinfo.com/ci/content/playe...  \n",
       "4   9  http://stats.espncricinfo.com/ci/content/playe...  "
      ]
     },
     "execution_count": 5,
     "metadata": {},
     "output_type": "execute_result"
    }
   ],
   "source": [
    "cricket_data.head()"
   ]
  },
  {
   "cell_type": "code",
   "execution_count": 15,
   "metadata": {},
   "outputs": [],
   "source": [
    "high_scores = cricket_data[['Player', 'HS']]\n",
    "total_runs = cricket_data[['Player', 'Runs']]\n",
    "average = cricket_data[['Player', 'Avg']]\n",
    "hundreds = cricket_data[['Player', '100', '50']]\n",
    "ducks = cricket_data[['Player', '0']]"
   ]
  },
  {
   "cell_type": "code",
   "execution_count": null,
   "metadata": {},
   "outputs": [],
   "source": []
  }
 ],
 "metadata": {
  "kernelspec": {
   "display_name": "Python 3",
   "language": "python",
   "name": "python3"
  },
  "language_info": {
   "codemirror_mode": {
    "name": "ipython",
    "version": 3
   },
   "file_extension": ".py",
   "mimetype": "text/x-python",
   "name": "python",
   "nbconvert_exporter": "python",
   "pygments_lexer": "ipython3",
   "version": "3.7.3"
  }
 },
 "nbformat": 4,
 "nbformat_minor": 2
}
